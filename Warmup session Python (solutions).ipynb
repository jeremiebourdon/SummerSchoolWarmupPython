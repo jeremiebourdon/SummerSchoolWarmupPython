{
 "cells": [
  {
   "cell_type": "markdown",
   "metadata": {},
   "source": [
    "# Warmup session Python, June 24th (solutions)"
   ]
  },
  {
   "cell_type": "markdown",
   "metadata": {},
   "source": [
    "*Exercise 1*\n",
    "\n",
    "Mimics the transcription phase by replacing all T by a U in a DNA sequence entered by the user."
   ]
  },
  {
   "cell_type": "code",
   "execution_count": 5,
   "metadata": {},
   "outputs": [
    {
     "name": "stdout",
     "output_type": "stream",
     "text": [
      "Enter the DNA sequence : ACGTATATCGT\n",
      "ACGUAUAUCGU\n"
     ]
    }
   ],
   "source": [
    "# solution 1, by using the builtin replace function of Python\n",
    "dna=input(\"Enter the DNA sequence : \")\n",
    "\n",
    "rna = dna.replace(\"T\",\"U\")\n",
    "print(rna)"
   ]
  },
  {
   "cell_type": "code",
   "execution_count": 6,
   "metadata": {},
   "outputs": [
    {
     "name": "stdout",
     "output_type": "stream",
     "text": [
      "Enter the DNA sequence : ACGTATATCGT\n",
      "ACGUAUAUCGU\n"
     ]
    }
   ],
   "source": [
    "# solution 2, because (1) you do not always have such a function \n",
    "# and (2) it is sometime more powerful especially when several \n",
    "# symbols have to be converted\n",
    "# this solution mimics what happens in biology\n",
    "\n",
    "dna=input(\"Enter the DNA sequence : \")\n",
    "\n",
    "rna = \"\"\n",
    "for b in dna:\n",
    "    if b == \"T\":\n",
    "        rna = rna + \"U\"\n",
    "    else:\n",
    "        rna = rna + b\n",
    "\n",
    "print(rna)"
   ]
  },
  {
   "cell_type": "markdown",
   "metadata": {},
   "source": [
    "*Exercise 2*\n",
    "\n",
    "Write a function that returns the reverse complementary sequence of a DNA sequence provided as a parameter of the function."
   ]
  },
  {
   "cell_type": "code",
   "execution_count": 7,
   "metadata": {},
   "outputs": [
    {
     "name": "stdout",
     "output_type": "stream",
     "text": [
      "Enter the DNA sequence : ACGTATATCGT\n",
      "ACGATATACGT\n"
     ]
    }
   ],
   "source": [
    "# Solution 1 by using the replace function. You have to take care of the order of the replacements\n",
    "# (eg. A->T then T->A implies A->A....)\n",
    "\n",
    "dna=input(\"Enter the DNA sequence : \")\n",
    "\n",
    "complement = dna.replace(\"A\",\"t\")         # notice that it is a small t\n",
    "complement = complement.replace(\"C\",\"g\")  # notice that it is a small t\n",
    "complement = complement.replace(\"G\",\"C\")\n",
    "complement = complement.replace(\"T\",\"A\")\n",
    "complement = complement.replace(\"t\",\"T\")\n",
    "complement = complement.replace(\"g\",\"G\")\n",
    "\n",
    "# Notice that complement is not reversed.... The following loop allows to reverse the string\n",
    "reverse = \"\"\n",
    "for c in complement:\n",
    "    reverse = c + reverse      # add c before reverse will reverse the string....\n",
    "\n",
    "# notice that the ugly notation « reverse = complement[::-1] » also works\n",
    "\n",
    "print(reverse)"
   ]
  },
  {
   "cell_type": "code",
   "execution_count": 8,
   "metadata": {},
   "outputs": [
    {
     "name": "stdout",
     "output_type": "stream",
     "text": [
      "Enter the DNA sequence : ACGTATATCGT\n",
      "ACGATATACGT\n"
     ]
    }
   ],
   "source": [
    "# Solution 2 by using a loop\n",
    "\n",
    "dna=input(\"Enter the DNA sequence : \")\n",
    "\n",
    "reverse = \"\"\n",
    "for c in dna:\n",
    "    if c == \"A\":\n",
    "        c = \"T\"\n",
    "    else:\n",
    "        if c == \"C\":\n",
    "            c = \"G\"\n",
    "        else:\n",
    "            if c == \"G\":\n",
    "                c = \"C\"\n",
    "            else:\n",
    "                c = \"A\"\n",
    "    reverse = c + reverse      # add c before reverse will reverse the string....\n",
    "\n",
    "print(reverse)"
   ]
  },
  {
   "cell_type": "markdown",
   "metadata": {},
   "source": [
    "*Exercise 3*\n",
    "\n",
    "A biologist have counted the number of individual of a given bird specie for 40 years. The data is provided by this table (and in the file « data_ex3.txt »).\n",
    "\n",
    "1. write a program that computes the year where the population is maximal\n",
    "2. write a program that finds the peaks of population.\n",
    "3. \\[use matplotlib to draw the bird population and map the peaks on it.\\]\n"
   ]
  },
  {
   "cell_type": "code",
   "execution_count": 9,
   "metadata": {},
   "outputs": [
    {
     "name": "stdout",
     "output_type": "stream",
     "text": [
      "216\n",
      "2 82\n",
      "5 105\n",
      "8 146\n",
      "10 151\n",
      "12 146\n",
      "16 95\n",
      "19 64\n",
      "22 41\n",
      "25 84\n",
      "29 158\n",
      "31 150\n",
      "33 171\n",
      "35 198\n",
      "37 216\n"
     ]
    },
    {
     "data": {
      "image/png": "[encoded data removed]",
      "text/plain": [
       "<Figure size 432x288 with 1 Axes>"
      ]
     },
     "metadata": {
      "needs_background": "light"
     },
     "output_type": "display_data"
    }
   ],
   "source": [
    "# First of all, one as to read the text file and stores the values in a list (of integers)\n",
    "\n",
    "# open the file for reading\n",
    "fd = open(\"data_ex3.txt\",\"r\")\n",
    "\n",
    "# create an empty list\n",
    "data = list()\n",
    "\n",
    "# loop on all the lines of the file and append the line (transformed into an integer) to the list\n",
    "for l in fd:\n",
    "    data.append( int(l) )\n",
    "    \n",
    "# 1. with the builtin function max, getting the maximum of a list is easy\n",
    "print(max(data))\n",
    "\n",
    "\n",
    "# 2. a peak is such that data[i-1]<data[i] and at the same time data[i+1]<data[i]\n",
    "for i in range(1,len(data)-1):\n",
    "    if data[i-1]<data[i] and data[i+1]<data[i]:\n",
    "        print(i,data[i])\n",
    "\n",
    "# 3. plot everything\n",
    "\n",
    "import matplotlib.pyplot as plt\n",
    "%matplotlib inline\n",
    "\n",
    "plt.plot(data)   # for the data, it is easy\n",
    "\n",
    "# we need to store the values of the peaks if we want to plot it\n",
    "\n",
    "peak_indexes = list()\n",
    "peak_values = list()\n",
    "\n",
    "for i in range(1,len(data)-1):\n",
    "    if data[i-1]<data[i] and data[i+1]<data[i]:\n",
    "        peak_indexes.append(i)\n",
    "        peak_values.append(data[i])\n",
    "\n",
    "\n",
    "plt.plot(peak_indexes,peak_values,\"ro\")\n",
    "\n",
    "# Here, \"ro\" means that we want to plot red (\"r\") circles (\"o\")\n",
    "\n",
    "plt.show()\n"
   ]
  },
  {
   "cell_type": "markdown",
   "metadata": {},
   "source": [
    "*Exercise 4*\n",
    "\n",
    "The correlation coefficient between two series is given by\n",
    "$$\n",
    "r=\\frac{\\sum_i x_iy_i}{\\sqrt{\\sum_i x_i^2 \\cdot \\sum_i y_i^2}}\n",
    "$$\n",
    "Write a function that returns the correlation between two series provided as parameters of the function.\n",
    "\n",
    "Application (file : data_ex4.csv) : in a group of 12 patients, we measure (X) the quantity of lipids in their faeces and (Y) the concentration in acetones in their urine. Is the correlation between X and Y significant ?"
   ]
  },
  {
   "cell_type": "code",
   "execution_count": 10,
   "metadata": {},
   "outputs": [
    {
     "name": "stdout",
     "output_type": "stream",
     "text": [
      "0.947866557768097\n"
     ]
    }
   ],
   "source": [
    "# definition of a function\n",
    "\n",
    "from math import sqrt\n",
    "\n",
    "def correlation(X,Y):\n",
    "    sum_XY = 0\n",
    "    sum_X2 = 0\n",
    "    sum_Y2 = 0\n",
    "    for i in range(len(X)):\n",
    "        sum_XY = sum_XY + X[i]*Y[i]\n",
    "        sum_X2 = sum_X2 + X[i]*X[i]\n",
    "        sum_Y2 = sum_Y2 + Y[i]*Y[i]\n",
    "    return sum_XY/sqrt(sum_X2*sum_Y2)\n",
    "\n",
    "# Application\n",
    "\n",
    "fd = open(\"data_ex4.csv\",\"r\")\n",
    "\n",
    "X = list()\n",
    "Y = list()\n",
    "for l in fd:\n",
    "    T=l.split(\";\")\n",
    "    X.append(float(T[0]))\n",
    "    Y.append(float(T[1]))\n",
    "\n",
    "print(correlation(X,Y))\n"
   ]
  },
  {
   "cell_type": "markdown",
   "metadata": {},
   "source": [
    "*Exercise 5*\n",
    "\n",
    "The Fibonacci series (also known as « the rabbits » series) is defined is $F_0=F_1=1$ and $F_n=F_{n-1}+F_{n-2}, n>1$. Computes the 20 first terms of the Fibonacci series, store them in an array and plot the result. Save the values in outputFibo.txt."
   ]
  },
  {
   "cell_type": "code",
   "execution_count": 11,
   "metadata": {},
   "outputs": [
    {
     "data": {
      "image/png": "[encoded data removed]",
      "text/plain": [
       "<Figure size 432x288 with 1 Axes>"
      ]
     },
     "metadata": {
      "needs_background": "light"
     },
     "output_type": "display_data"
    }
   ],
   "source": [
    "# We directly stores the values\n",
    "F=[1,1] # it means that F[0]=F[1]=1\n",
    "\n",
    "for n in range(2,20):\n",
    "    F.append(F[n-1]+F[n-2])\n",
    "\n",
    "import matplotlib.pyplot as plt\n",
    "%matplotlib inline\n",
    "\n",
    "plt.plot(F)   # Notice that it is an exponential series\n",
    "plt.show()\n",
    "\n",
    "# Now we will stores the values\n",
    "\n",
    "fd = open(\"outputFibo.txt\",\"w\")\n",
    "for v in F:\n",
    "    fd.write(str(v)+\"\\n\")\n",
    "fd.close()\n"
   ]
  },
  {
   "cell_type": "markdown",
   "metadata": {},
   "source": [
    "Exercise 6\n",
    "\n",
    "The Lotka-Volterra model permits to reproduce some observed prey-predators phenomenon. More precisely, let $X_n$ denotes the number of preys and $Y_n$ denotes the number of predators. These series evolves as $X_{n+1}= V_x (1+X_n)$ and $Y{n+1}= V_y (1+Y_n)$, with $V_x =  a - b Y_n$ and \n",
    "$V_y =  c X_n - d$.\n",
    "\n",
    "Compute the series $(X_n)$ and $(Y_n)$ for a long period of time and plot the results. What can we conclude ? Test it with $a=0.01$, $b=0.02$, $c=0.03$ and $d=0.04$."
   ]
  },
  {
   "cell_type": "code",
   "execution_count": 12,
   "metadata": {},
   "outputs": [
    {
     "data": {
      "image/png": "[encoded data removed]",
      "text/plain": [
       "<Figure size 432x288 with 1 Axes>"
      ]
     },
     "metadata": {
      "needs_background": "light"
     },
     "output_type": "display_data"
    },
    {
     "data": {
      "image/png": "[encoded data removed]",
      "text/plain": [
       "<Figure size 432x288 with 1 Axes>"
      ]
     },
     "metadata": {
      "needs_background": "light"
     },
     "output_type": "display_data"
    }
   ],
   "source": [
    "# The Lotka-Volterra model (discrete abstraction)\n",
    "\n",
    "X=[1]\n",
    "Y=[1]\n",
    "\n",
    "a = 0.01\n",
    "b = 0.02\n",
    "c = 0.03\n",
    "d = 0.04\n",
    "\n",
    "for n in range(1,1000):\n",
    "    Vx = a - b * Y[n-1] \n",
    "    Vy = c * X[n-1] - d \n",
    "    X.append(X[n-1] * (1+Vx))\n",
    "    Y.append(Y[n-1] * (1+Vy))\n",
    "\n",
    "import matplotlib.pyplot as plt\n",
    "%matplotlib inline\n",
    "\n",
    "# Competition between preys and predators\n",
    "plt.plot(X)\n",
    "plt.plot(Y)\n",
    "plt.show()\n",
    "\n",
    "# \"Phase plane\"\n",
    "plt.plot(X,Y)\n",
    "plt.show()\n",
    "\n",
    "\n"
   ]
  },
  {
   "cell_type": "markdown",
   "metadata": {},
   "source": [
    "*Exercise 7*\n",
    "\n",
    "The GC-content of a DNA string is given by the percentage of symbols in the string that are 'C' or 'G'. For example, the GC-content of \"AGCTATAG\" is 37.5%. Write a function that computes the GC content of a given DNA sequence. Read the file data_ex7.fasta and print the GC content of all the sequences."
   ]
  },
  {
   "cell_type": "code",
   "execution_count": 13,
   "metadata": {},
   "outputs": [
    {
     "name": "stdout",
     "output_type": "stream",
     "text": [
      "[{'GeneName': 'HSBGPG Human gene for bone gla protein (BGP)', 'Sequence': 'GGCAGATTCCCCCTAGACCCGCCCGCACCATGGTCAGGCATGCCCCTCCTCATCGCTGGGCACAGCCCAGAGGGTATAAACAGTGCTGGAGGCTGGCGGGGCAGGCCAGCTGAGTCCTGAGCAGCAGCCCAGCGCAGCCACCGAGACACCATGAGAGCCCTCACACTCCTCGCCCTATTGGCCCTGGCCGCACTTTGCATCGCTGGCCAGGCAGGTGAGTGCCCCCACCTCCCCTCAGGCCGCATTGCAGTGGGGGCTGAGAGGAGGAAGCACCATGGCCCACCTCTTCTCACCCCTTTGGCTGGCAGTCCCTTTGCAGTCTAACCACCTTGTTGCAGGCTCAATCCATTTGCCCCAGCTCTGCCCTTGCAGAGGGAGAGGAGGGAAGAGCAAGCTGCCCGAGACGCAGGGGAAGGAGGATGAGGGCCCTGGGGATGAGCTGGGGTGAACCAGGCTCCCTTTCCTTTGCAGGTGCGAAGCCCAGCGGTGCAGAGTCCAGCAAAGGTGCAGGTATGAGGATGGACCTGATGGGTTCCTGGACCCTCCCCTCTCACCCTGGTCCCTCAGTCTCATTCCCCCACTCCTGCCACCTCCTGTCTGGCCATCAGGAAGGCCAGCCTGCTCCCCACCTGATCCTCCCAAACCCAGAGCCACCTGATGCCTGCCCCTCTGCTCCACAGCCTTTGTGTCCAAGCAGGAGGGCAGCGAGGTAGTGAAGAGACCCAGGCGCTACCTGTATCAATGGCTGGGGTGAGAGAAAAGGCAGAGCTGGGCCAAGGCCCTGCCTCTCCGGGATGGTCTGTGGGGGAGCTGCAGCAGGGAGTGGCCTCTCTGGGTTGTGGTGGGGGTACAGGCAGCCTGCCCTGGTGGGCACCCTGGAGCCCCATGTGTAGGGAGAGGAGGGATGGGCATTTTGCACGGGGGCTGATGCCACCACGTCGGGTGTCTCAGAGCCCCAGTCCCCTACCCGGATCCCCTGGAGCCCAGGAGGGAGGTGTGTGAGCTCAATCCGGACTGTGACGAGTTGGCTGACCACATCGGCTTTCAGGAGGCCTATCGGCGCTTCTACGGCCCGGTCTAGGGTGTCGCTCTGCTGGCCTGGCCGGCAACCCCAGTTCTGCTCCTCTCCAGGCACCCTTCTTTCCTCTTCCCCTTGCCCTTGCCCTGACCTCCCAGCCCTATGGATGTGGGGTCCCCATCATCCCAGCTGCTCCCAAATAAACTCCAGAAG', 'GCcontent': 63.52558895207149}, {'GeneName': 'HSGLTH1 Human theta 1-globin gene', 'Sequence': 'CCACTGCACTCACCGCACCCGGCCAATTTTTGTGTTTTTAGTAGAGACTAAATACCATATAGTGAACACCTAAGACGGGGGGCCTTGGATCCAGGGCGATTCAGAGGGCCCCGGTCGGAGCTGTCGGAGATTGAGCGCGCGCGGTCCCGGGATCTCCGACGAGGCCCTGGACCCCCGGGCGGCGAAGCTGCGGCGCGGCGCCCCCTGGAGGCCGCGGGACCCCTGGCCGGTCCGCGCAGGCGCAGCGGGGTCGCAGGGCGCGGCGGGTTCCAGCGCGGGGATGGCGCTGTCCGCGGAGGACCGGGCGCTGGTGCGCGCCCTGTGGAAGAAGCTGGGCAGCAACGTCGGCGTCTACACGACAGAGGCCCTGGAAAGGTGCGGCAGGCTGGGCGCCCCCGCCCCCAGGGGCCCTCCCTCCCCAAGCCCCCCGGACGCGCCTCACCCACGTTCCTCTCGCAGGACCTTCCTGGCTTTCCCCGCCACGAAGACCTACTTCTCCCACCTGGACCTGAGCCCCGGCTCCTCACAAGTCAGAGCCCACGGCCAGAAGGTGGCGGACGCGCTGAGCCTCGCCGTGGAGCGCCTGGACGACCTACCCCACGCGCTGTCCGCGCTGAGCCACCTGCACGCGTGCCAGCTGCGAGTGGACCCGGCCAGCTTCCAGGTGAGCGGCTGCCGTGCTGGGCCCCTGTCCCCGGGAGGGCCCCGGCGGGGTGGGTGCGGGGGGCGTGCGGGGCGGGTGCAGGCGAGTGAGCCTTGAGCGCTCGCCGCAGCTCCTGGGCCACTGCCTGCTGGTAACCCTCGCCCGGCACTACCCCGGAGACTTCAGCCCCGCGCTGCAGGCGTCGCTGGACAAGTTCCTGAGCCACGTTATCTCGGCGCTGGTTTCCGAGTACCGCTGAACTGTGGGTGGGTGGCCGCGGGATCCCCAGGCGACCTTCCCCGTGTTTGAGTAAAGCCTCTCCCAGGAGCAGCCTTCTTGCCGTGCTCTCTCGAGGTCAGGACGCGAGAGGAAGGCGC', 'GCcontent': 70.49019607843138}]\n"
     ]
    }
   ],
   "source": [
    "# The most difficult thing consists in reading the fasta file\n",
    "# each line that begins with \">\" contains the name of a gene, they others contains (part of) its sequence\n",
    "# Out goal is to obtain a list of dictionaries that stores the name, the sequence and the GCcontent of\n",
    "# each sequence stored in the fasta file\n",
    "\n",
    "fd= open(\"data_ex7.fasta\",\"r\")\n",
    "\n",
    "datalist = list()\n",
    "\n",
    "genename = \"\"\n",
    "sequence = \"\"\n",
    "\n",
    "for l in fd:\n",
    "    l=l.replace(\"\\n\",\"\")  # Technical line, we need to remove the \"\\n\" (= carriage return) symbols\n",
    "    if l[0] == \">\":\n",
    "        # we first store the current sequence in the list as a dictionary (only if sequence is not null)\n",
    "        if not sequence == \"\":\n",
    "            datalist.append({\"GeneName\" : genename, \"Sequence\": sequence, \"GCcontent\":0.0})\n",
    "        genename = l[1:]    # this is a notation for getting subparts of the sequence\n",
    "        sequence = \"\"       # we will start a new sequence\n",
    "    else:\n",
    "        sequence = sequence + l\n",
    "        \n",
    "fd.close()\n",
    "\n",
    "# notice that at the last gene has not been stored\n",
    "if not sequence == \"\":\n",
    "    datalist.append({\"GeneName\" : genename, \"Sequence\": sequence, \"GCcontent\":0.0})\n",
    "\n",
    "    \n",
    "# Computing the GC content is easy by using the \"count\" function    \n",
    "\n",
    "for g in datalist:\n",
    "    s = g.get(\"Sequence\")\n",
    "    g[\"GCcontent\"] = (s.count(\"G\")+s.count(\"C\"))/len(s) * 100\n",
    "    \n",
    "print(datalist)\n"
   ]
  },
  {
   "cell_type": "markdown",
   "metadata": {},
   "source": [
    "*Exercise 8*\n",
    "\n",
    "The distance between two DNA sequences can be measured in several way. The Hamming distance equals the number of positions for which the characters differs.\n",
    "Write a function DistanceH.\n",
    "\n",
    "Example: DistanceH(ACTAATGA,ACAATGAC) = 5\n",
    "\n",
    "Much more difficult. The Levenshtein distance equals the minimal number of insertions, deletions and substitutions that are required to go from one sequence to another. Write a function DistanceL that computes the Levenshtein distance (aka « edit distance ») between two strings. \n",
    "\n",
    "Example: DistanceL(ACTAATGA,ACAATGAC) = 2\n"
   ]
  },
  {
   "cell_type": "code",
   "execution_count": 14,
   "metadata": {},
   "outputs": [
    {
     "name": "stdout",
     "output_type": "stream",
     "text": [
      "5\n"
     ]
    }
   ],
   "source": [
    "# Computing the Hamming distance is quite easy\n",
    "\n",
    "def DistanceH(s1,s2):\n",
    "    cpt=0\n",
    "    for i in range(len(s1)):\n",
    "        if not s1[i] == s2[i]:\n",
    "            cpt = cpt + 1\n",
    "    return cpt\n",
    "\n",
    "print(DistanceH(\"ACTAATGA\",\"ACAATGAC\"))\n"
   ]
  },
  {
   "cell_type": "code",
   "execution_count": 15,
   "metadata": {},
   "outputs": [
    {
     "name": "stdout",
     "output_type": "stream",
     "text": [
      "2\n"
     ]
    }
   ],
   "source": [
    "# Computing the Levesthein distance is more tricky. \n",
    "# Some explainations can be found here : https://en.wikipedia.org/wiki/Edit_distance\n",
    "\n",
    "# the basics consists in computing a distance matrix whose element at position i,j contains the edit distance\n",
    "# between s1[0:i] and s2[0:j]\n",
    "\n",
    "def DistanceL(s1,s2):\n",
    "    distMatrix = [[0]*(len(s2)+1) for i in range(len(s1)+1)]     # this strange notation will create a |s1|x|s2| matrix containing zeros\n",
    "    # first case, distance(s,\"\")=len(s) (only deletions)\n",
    "    for i in range(len(s1)+1):\n",
    "        distMatrix[i][0]=i\n",
    "    # second case, distance(\"\",s)=len(s) (only insertions)\n",
    "    for j in range(len(s2)+1):\n",
    "        distMatrix[0][j]=j\n",
    "\n",
    "    # third case, distance(s1[0:i],s2[0:j])=distance(s1[0:i-1],s2[0:j-1]) if (s1[i] == s2[j])\n",
    "    # otherwise, it is the minimum between a substitution, an insertion or a deletion in the appropriate words\n",
    "    for i in range(len(s1)):\n",
    "        for j in range(len(s2)):\n",
    "            if s1[i] == s2[j]:\n",
    "                distMatrix[i+1][j+1]=distMatrix[i][j]\n",
    "            else:\n",
    "                distMatrix[i+1][j+1]=1+min([distMatrix[i][j+1],distMatrix[i][j],distMatrix[i+1][j]])\n",
    "    # print(distMatrix)\n",
    "    # The right value is then stored in the last place of the matrix\n",
    "    return distMatrix[len(s1)][len(s2)]\n",
    "\n",
    "print(DistanceL(\"ACTAATGA\",\"ACAATGAC\"))\n"
   ]
  },
  {
   "cell_type": "markdown",
   "metadata": {},
   "source": [
    "\n",
    "\n",
    "*Exercise 9*\n",
    "\n",
    "A k-mer is a string of length k. We define Count(Text, Pattern) as the number of times that a k-mer Pattern appears as a substring of Text. For example,\n",
    "\n",
    "Count(ACAACTATGCATACTATCGGGAACTATCCT,ACTAT)=3.\n",
    "      \n",
    "We note that Count(CGATATATCCATAG, ATA) is equal to 3 (not 2) since we should account for overlapping occurrences of Pattern in Text. We say that Pattern is a most frequent k-mer in Text if it maximizes Count(Text, Pattern) among all k-mers. For example, \"ACTAT\" is a most frequent 5-mer in \"ACAACTATGCATCACTATCGGGAACTATCCT\", and \"ATA\" is a most frequent 3-mer of \"CGATATATCCATAG\".\n",
    "\n",
    "Frequent Words Problem : « Find the most frequent k-mers in a string. »\n",
    "Given: A DNA string Text and an integer k, it must return: All most frequent k-mers in Text.\n",
    "\n",
    "Write the Count function and solve the Frequent Words Problem.\n"
   ]
  },
  {
   "cell_type": "code",
   "execution_count": 16,
   "metadata": {},
   "outputs": [
    {
     "name": "stdout",
     "output_type": "stream",
     "text": [
      "2\n"
     ]
    }
   ],
   "source": [
    "# notice that \"CGATATATCCATAG\".count(\"ATA\") won't work because of the overlaps...\n",
    "\n",
    "print(\"CGATATATCCATAG\".count(\"ATA\"))"
   ]
  },
  {
   "cell_type": "code",
   "execution_count": 17,
   "metadata": {},
   "outputs": [
    {
     "name": "stdout",
     "output_type": "stream",
     "text": [
      "3\n"
     ]
    }
   ],
   "source": [
    "# Here is a naive and not efficient method. Finding patterns in strings is a very active field of research.\n",
    "# Further informations can be found here : https://arxiv.org/abs/1012.2547\n",
    "\n",
    "def Count(s,p):\n",
    "    cpt=0\n",
    "    for i in range(len(s)-len(p)+1):\n",
    "        if s[i:i+len(p)] == p:\n",
    "            cpt=cpt+1\n",
    "    return cpt\n",
    "\n",
    "print(Count(\"CGATATATCCATAG\",\"ATA\"))"
   ]
  },
  {
   "cell_type": "code",
   "execution_count": 18,
   "metadata": {},
   "outputs": [
    {
     "name": "stdout",
     "output_type": "stream",
     "text": [
      "ACTAT 3\n"
     ]
    }
   ],
   "source": [
    "s = \"ACAACTATGCATCACTATCGGGAACTATCCT\"\n",
    "k = 5\n",
    "\n",
    "max_word=s[0:k]\n",
    "max_count=Count(s,max_word)\n",
    "\n",
    "for i in range(1,len(s)-k+1):\n",
    "    w = s[i:i+k]\n",
    "    c = Count(s,w)\n",
    "    if c>max_count:\n",
    "        max_count = c\n",
    "        max_word = w\n",
    "        \n",
    "print(max_word,max_count)\n"
   ]
  },
  {
   "cell_type": "markdown",
   "metadata": {},
   "source": [
    "# Useful sample codes"
   ]
  },
  {
   "cell_type": "code",
   "execution_count": null,
   "metadata": {},
   "outputs": [],
   "source": [
    "# inputs/outputs\n",
    "\n",
    "s = input(\"Enter a string \")\n",
    "\n",
    "n = int(input(\"Enter an integer \"))\n",
    "\n",
    "x = float(input(\"Enter a real value \"))\n",
    "\n",
    "\n",
    "print(s,n,x)"
   ]
  },
  {
   "cell_type": "code",
   "execution_count": null,
   "metadata": {},
   "outputs": [],
   "source": [
    "# defining a new function\n",
    "\n",
    "def myfunction(x,y):\n",
    "    res = x+x*y\n",
    "    return res\n",
    "\n",
    "print(myfunction(2,5))"
   ]
  },
  {
   "cell_type": "code",
   "execution_count": null,
   "metadata": {},
   "outputs": [],
   "source": [
    "# conditional statement\n",
    "\n",
    "n = int(input(\"Enter your age \"))\n",
    "if n>18:\n",
    "    print(\"You are an adult\")\n",
    "else:\n",
    "    print(\"You are minor\")"
   ]
  },
  {
   "cell_type": "code",
   "execution_count": null,
   "metadata": {},
   "outputs": [],
   "source": [
    "# while loop\n",
    "\n",
    "lump_size = 100\n",
    "number_of_minutes = 0\n",
    "while lump_size>1:\n",
    "    lump_size = lump_size / 2     # mix the cake\n",
    "    number_of_minutes = number_of_minutes + 1\n",
    "\n",
    "print(\"Mix the cake for\",number_of_minutes,\"minutes\")"
   ]
  },
  {
   "cell_type": "code",
   "execution_count": null,
   "metadata": {},
   "outputs": [],
   "source": [
    "# for loop\n",
    "\n",
    "for i in range(10):\n",
    "    print(i*(i+1)/2)"
   ]
  },
  {
   "cell_type": "code",
   "execution_count": null,
   "metadata": {},
   "outputs": [],
   "source": [
    "# for loop of strings\n",
    "\n",
    "s = \"Hello Bioinformaticians\"\n",
    "\n",
    "for c in s:\n",
    "    print(c)"
   ]
  },
  {
   "cell_type": "code",
   "execution_count": null,
   "metadata": {},
   "outputs": [],
   "source": [
    "# lists/arrays\n",
    "\n",
    "# method 1\n",
    "L1 = [1,5,3,4]\n",
    "print(L1)\n",
    "\n",
    "# method 2\n",
    "L2 = list()\n",
    "for i in range(5):\n",
    "    v = int(input(\"Enter value no\"+str(i)))\n",
    "    L2.append(v)\n",
    "print(L2)\n",
    "    \n",
    "# method 3\n",
    "L3 = [i*i for i in range(10) if i % 2 == 1]\n",
    "print(L3)\n",
    "\n",
    "# for loop on lists\n",
    "cpt = 0\n",
    "for v in L3:\n",
    "    cpt=cpt+v\n",
    "print(cpt)\n",
    "\n",
    "# notice that sum does the same but you do not have an appropriate function for everything\n",
    "print(sum(L3))\n"
   ]
  },
  {
   "cell_type": "code",
   "execution_count": null,
   "metadata": {},
   "outputs": [],
   "source": [
    "# maths.... and how we can import libraries\n",
    "\n",
    "# method 1\n",
    "\n",
    "import math\n",
    "\n",
    "print(math.sqrt(2))\n"
   ]
  },
  {
   "cell_type": "code",
   "execution_count": null,
   "metadata": {},
   "outputs": [],
   "source": [
    "# method 2 (now, m is a short cut for math)\n",
    "\n",
    "import math as m\n",
    "print(m.sin(5))"
   ]
  },
  {
   "cell_type": "code",
   "execution_count": null,
   "metadata": {},
   "outputs": [],
   "source": [
    "# method 3 (now sin and sqrt are known in the current context)\n",
    "\n",
    "from math import sin, sqrt\n",
    "\n",
    "print(sqrt(2), sin(5))"
   ]
  },
  {
   "cell_type": "code",
   "execution_count": null,
   "metadata": {},
   "outputs": [],
   "source": [
    "# but not \"cos\"....\n",
    "\n",
    "print(cos(5))"
   ]
  },
  {
   "cell_type": "code",
   "execution_count": null,
   "metadata": {},
   "outputs": [],
   "source": [
    "# drawings\n",
    "from math import sqrt\n",
    "L = [sqrt(i) for i in range(100)]\n",
    "\n",
    "import matplotlib.pyplot as plt\n",
    "%matplotlib inline\n",
    "\n",
    "plt.plot(L)\n",
    "plt.show()"
   ]
  },
  {
   "cell_type": "code",
   "execution_count": null,
   "metadata": {},
   "outputs": [],
   "source": []
  }
 ],
 "metadata": {
  "kernelspec": {
   "display_name": "Python 3",
   "language": "python",
   "name": "python3"
  },
  "language_info": {
   "codemirror_mode": {
    "name": "ipython",
    "version": 3
   },
   "file_extension": ".py",
   "mimetype": "text/x-python",
   "name": "python",
   "nbconvert_exporter": "python",
   "pygments_lexer": "ipython3",
   "version": "3.7.3"
  }
 },
 "nbformat": 4,
 "nbformat_minor": 2
}
