{
 "cells": [
  {
   "cell_type": "markdown",
   "metadata": {},
   "source": [
    "# Warmup session Python, June 24th"
   ]
  },
  {
   "cell_type": "markdown",
   "metadata": {},
   "source": [
    "*Exercise 1*\n",
    "\n",
    "Mimics the transcription phase by replacing all T by a U in a DNA sequence entered by the user."
   ]
  },
  {
   "cell_type": "code",
   "execution_count": null,
   "metadata": {},
   "outputs": [],
   "source": []
  },
  {
   "cell_type": "markdown",
   "metadata": {},
   "source": [
    "*Exercise 2*\n",
    "\n",
    "Write a function that returns the reverse complementary sequence of a DNA sequence provided as a parameter of the function."
   ]
  },
  {
   "cell_type": "code",
   "execution_count": null,
   "metadata": {},
   "outputs": [],
   "source": []
  },
  {
   "cell_type": "markdown",
   "metadata": {},
   "source": [
    "*Exercise 3*\n",
    "\n",
    "A biologist have counted the number of individual of a given bird specie for 40 years. The data is provided by this table (and in the file « data_ex3.txt »).\n",
    "\n",
    "1. write a program that computes the year where the population is maximal\n",
    "2. write a program that finds the peaks of population.\n",
    "3. \\[use matplotlib to draw the bird population and map the peaks on it.\\]\n"
   ]
  },
  {
   "cell_type": "code",
   "execution_count": null,
   "metadata": {},
   "outputs": [],
   "source": []
  },
  {
   "cell_type": "markdown",
   "metadata": {},
   "source": [
    "*Exercise 4*\n",
    "\n",
    "The correlation coefficient between two series is given by\n",
    "$$\n",
    "r=\\frac{\\sum_i x_iy_i}{\\sqrt{\\sum_i x_i^2 \\cdot \\sum_i y_i^2}}\n",
    "$$\n",
    "Write a function that returns the correlation between two series provided as parameters of the function.\n",
    "\n",
    "Application (file : data_ex4.csv) : in a group of 12 patients, we measure (X) the quantity of lipids in their faeces and (Y) the concentration in acetones in their urine. Is the correlation between X and Y significant ?"
   ]
  },
  {
   "cell_type": "code",
   "execution_count": null,
   "metadata": {},
   "outputs": [],
   "source": []
  },
  {
   "cell_type": "markdown",
   "metadata": {},
   "source": [
    "*Exercise 5*\n",
    "\n",
    "The Fibonacci series (also known as « the rabbits » series) is defined is $F_0=F_1=1$ and $F_n=F_{n-1}+F_{n-2}, n>1$. Computes the 20 first terms of the Fibonacci series, store them in an array and plot the result. Save the values in outputFibo.txt."
   ]
  },
  {
   "cell_type": "code",
   "execution_count": null,
   "metadata": {},
   "outputs": [],
   "source": []
  },
  {
   "cell_type": "markdown",
   "metadata": {},
   "source": [
    "Exercise 6\n",
    "\n",
    "The Lotka-Volterra model permits to reproduce some observed prey-predators phenomenon. More precisely, let $X_n$ denotes the number of preys and $Y_n$ denotes the number of predators. These series evolves as $X_{n+1}= V_x (1+X_n)$ and $Y{n+1}= V_y (1+Y_n)$, with $V_x =  a - b Y_n$ and \n",
    "$V_y =  c X_n - d$.\n",
    "\n",
    "Compute the series $(X_n)$ and $(Y_n)$ for a long period of time and plot the results. What can we conclude ? Test it with $a=0.01$, $b=0.02$, $c=0.03$ and $d=0.04$."
   ]
  },
  {
   "cell_type": "code",
   "execution_count": null,
   "metadata": {},
   "outputs": [],
   "source": []
  },
  {
   "cell_type": "markdown",
   "metadata": {},
   "source": [
    "*Exercise 7*\n",
    "\n",
    "The GC-content of a DNA string is given by the percentage of symbols in the string that are 'C' or 'G'. For example, the GC-content of \"AGCTATAG\" is 37.5%. Write a function that computes the GC content of a given DNA sequence. Read the file data_ex7.fasta and print the GC content of all the sequences."
   ]
  },
  {
   "cell_type": "code",
   "execution_count": null,
   "metadata": {},
   "outputs": [],
   "source": []
  },
  {
   "cell_type": "markdown",
   "metadata": {},
   "source": [
    "*Exercise 8*\n",
    "\n",
    "The distance between two DNA sequences can be measured in several way. The Hamming distance equals the number of positions for which the characters differs.\n",
    "Write a function DistanceH.\n",
    "\n",
    "Example: DistanceH(ACTAATGA,ACAATGAC) = 5\n",
    "\n",
    "Much more difficult. The Levenshtein distance equals the minimal number of insertions, deletions and substitutions that are required to go from one sequence to another. Write a function DistanceL that computes the Levenshtein distance (aka « edit distance ») between two strings. \n",
    "\n",
    "Example: DistanceL(ACTAATGA,ACAATGAC) = 2\n"
   ]
  },
  {
   "cell_type": "code",
   "execution_count": null,
   "metadata": {},
   "outputs": [],
   "source": []
  },
  {
   "cell_type": "markdown",
   "metadata": {},
   "source": [
    "*Exercise 9*\n",
    "\n",
    "A k-mer is a string of length k. We define Count(Text, Pattern) as the number of times that a k-mer Pattern appears as a substring of Text. For example,\n",
    "\n",
    "Count(ACAACTATGCATACTATCGGGAACTATCCT,ACTAT)=3.\n",
    "      \n",
    "We note that Count(CGATATATCCATAG, ATA) is equal to 3 (not 2) since we should account for overlapping occurrences of Pattern in Text. We say that Pattern is a most frequent k-mer in Text if it maximizes Count(Text, Pattern) among all k-mers. For example, \"ACTAT\" is a most frequent 5-mer in \"ACAACTATGCATCACTATCGGGAACTATCCT\", and \"ATA\" is a most frequent 3-mer of \"CGATATATCCATAG\".\n",
    "\n",
    "Frequent Words Problem : « Find the most frequent k-mers in a string. »\n",
    "Given: A DNA string Text and an integer k, it must return: All most frequent k-mers in Text.\n",
    "\n",
    "Write the Count function and solve the Frequent Words Problem.\n"
   ]
  },
  {
   "cell_type": "code",
   "execution_count": null,
   "metadata": {},
   "outputs": [],
   "source": []
  },
  {
   "cell_type": "markdown",
   "metadata": {},
   "source": [
    "# Useful sample codes"
   ]
  },
  {
   "cell_type": "code",
   "execution_count": null,
   "metadata": {},
   "outputs": [],
   "source": [
    "# inputs/outputs\n",
    "\n",
    "s = input(\"Enter a string \")\n",
    "\n",
    "n = int(input(\"Enter an integer \"))\n",
    "\n",
    "x = float(input(\"Enter a real value \"))\n",
    "\n",
    "\n",
    "print(s,n,x)"
   ]
  },
  {
   "cell_type": "code",
   "execution_count": null,
   "metadata": {},
   "outputs": [],
   "source": [
    "# defining a new function\n",
    "\n",
    "def myfunction(x,y):\n",
    "    res = x+x*y\n",
    "    return res\n",
    "\n",
    "print(myfunction(2,5))"
   ]
  },
  {
   "cell_type": "code",
   "execution_count": null,
   "metadata": {},
   "outputs": [],
   "source": [
    "# conditional statement\n",
    "\n",
    "n = int(input(\"Enter your age \"))\n",
    "if n>18:\n",
    "    print(\"You are an adult\")\n",
    "else:\n",
    "    print(\"You are minor\")"
   ]
  },
  {
   "cell_type": "code",
   "execution_count": null,
   "metadata": {},
   "outputs": [],
   "source": [
    "# while loop\n",
    "\n",
    "lump_size = 100\n",
    "number_of_minutes = 0\n",
    "while lump_size>1:\n",
    "    lump_size = lump_size / 2     # mix the cake\n",
    "    number_of_minutes = number_of_minutes + 1\n",
    "\n",
    "print(\"Mix the cake for\",number_of_minutes,\"minutes\")"
   ]
  },
  {
   "cell_type": "code",
   "execution_count": null,
   "metadata": {},
   "outputs": [],
   "source": [
    "# for loop\n",
    "\n",
    "for i in range(10):\n",
    "    print(i*(i+1)/2)"
   ]
  },
  {
   "cell_type": "code",
   "execution_count": null,
   "metadata": {},
   "outputs": [],
   "source": [
    "# for loop of strings\n",
    "\n",
    "s = \"Hello Bioinformaticians\"\n",
    "\n",
    "for c in s:\n",
    "    print(c)"
   ]
  },
  {
   "cell_type": "code",
   "execution_count": null,
   "metadata": {},
   "outputs": [],
   "source": [
    "# lists/arrays\n",
    "\n",
    "# method 1\n",
    "L1 = [1,5,3,4]\n",
    "print(L1)\n",
    "\n",
    "# method 2\n",
    "L2 = list()\n",
    "for i in range(5):\n",
    "    v = int(input(\"Enter value no\"+str(i)))\n",
    "    L2.append(v)\n",
    "print(L2)\n",
    "    \n",
    "# method 3\n",
    "L3 = [i*i for i in range(10) if i % 2 == 1]\n",
    "print(L3)\n",
    "\n",
    "# for loop on lists\n",
    "cpt = 0\n",
    "for v in L3:\n",
    "    cpt=cpt+v\n",
    "print(cpt)\n",
    "\n",
    "# notice that sum does the same but you do not have an appropriate function for everything\n",
    "print(sum(L3))\n"
   ]
  },
  {
   "cell_type": "code",
   "execution_count": null,
   "metadata": {},
   "outputs": [],
   "source": [
    "# maths.... and how we can import libraries\n",
    "\n",
    "# method 1\n",
    "\n",
    "import math\n",
    "\n",
    "print(math.sqrt(2))\n"
   ]
  },
  {
   "cell_type": "code",
   "execution_count": null,
   "metadata": {},
   "outputs": [],
   "source": [
    "# method 2 (now, m is a short cut for math)\n",
    "\n",
    "import math as m\n",
    "print(m.sin(5))"
   ]
  },
  {
   "cell_type": "code",
   "execution_count": null,
   "metadata": {},
   "outputs": [],
   "source": [
    "# method 3 (now sin and sqrt are known in the current context)\n",
    "\n",
    "from math import sin, sqrt\n",
    "\n",
    "print(sqrt(2), sin(5))"
   ]
  },
  {
   "cell_type": "code",
   "execution_count": null,
   "metadata": {},
   "outputs": [],
   "source": [
    "# but not \"cos\"....\n",
    "\n",
    "print(cos(5))"
   ]
  },
  {
   "cell_type": "code",
   "execution_count": null,
   "metadata": {},
   "outputs": [],
   "source": [
    "# drawings\n",
    "from math import sqrt\n",
    "L = [sqrt(i) for i in range(100)]\n",
    "\n",
    "import matplotlib.pyplot as plt\n",
    "%matplotlib inline\n",
    "\n",
    "plt.plot(L)\n",
    "plt.show()"
   ]
  },
  {
   "cell_type": "code",
   "execution_count": null,
   "metadata": {},
   "outputs": [],
   "source": []
  }
 ],
 "metadata": {
  "kernelspec": {
   "display_name": "Python 3",
   "language": "python",
   "name": "python3"
  },
  "language_info": {
   "codemirror_mode": {
    "name": "ipython",
    "version": 3
   },
   "file_extension": ".py",
   "mimetype": "text/x-python",
   "name": "python",
   "nbconvert_exporter": "python",
   "pygments_lexer": "ipython3",
   "version": "3.7.3"
  }
 },
 "nbformat": 4,
 "nbformat_minor": 2
}
